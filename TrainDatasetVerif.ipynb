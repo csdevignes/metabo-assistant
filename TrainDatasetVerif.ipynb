{
 "cells": [
  {
   "cell_type": "markdown",
   "id": "c50800cc-762c-4716-ade8-c221f1fcfe05",
   "metadata": {},
   "source": [
    "# Verification of the train dataset\n",
    "\n",
    "Imports and data loading"
   ]
  },
  {
   "cell_type": "code",
   "execution_count": 1,
   "id": "edf37509-0ed0-4fd5-9731-8f48d1cb715c",
   "metadata": {},
   "outputs": [],
   "source": [
    "import json\n",
    "import pandas as pd\n",
    "import numpy as np\n",
    "import matplotlib.pyplot as plt"
   ]
  },
  {
   "cell_type": "code",
   "execution_count": 17,
   "id": "71e564e2-37ee-439d-bbfd-91e9fd6420f5",
   "metadata": {},
   "outputs": [],
   "source": [
    "def load_jsonl_df(jsonl_file, lab=False):\n",
    "    user_contents = []\n",
    "    assistant_contents = []\n",
    "    labels = []\n",
    "\n",
    "    with open(jsonl_file, 'r') as file:\n",
    "        for line in file:\n",
    "            data = json.loads(line)\n",
    "            message = data['messages']\n",
    "            user_contents.append(message[0]['content'])\n",
    "            assistant_contents.append(message[1]['content'])\n",
    "            if lab == True:\n",
    "                labels.append(data['target'])\n",
    "\n",
    "\n",
    "    if lab == True:\n",
    "        df = pd.DataFrame({\n",
    "            'user_content': user_contents,\n",
    "            'assistant_content': assistant_contents,\n",
    "            'target' : labels\n",
    "            })\n",
    "    else:\n",
    "        df = pd.DataFrame({\n",
    "            'user_content': user_contents,\n",
    "            'assistant_content': assistant_contents\n",
    "            })\n",
    "    return df"
   ]
  },
  {
   "cell_type": "code",
   "execution_count": 71,
   "id": "8018b333-e3a1-4382-b86f-0689eac12c47",
   "metadata": {},
   "outputs": [
    {
     "data": {
      "text/plain": [
       "(500, 3)"
      ]
     },
     "execution_count": 71,
     "metadata": {},
     "output_type": "execute_result"
    }
   ],
   "source": [
    "data_lab = load_jsonl_df('dataset/train_dataset_lab.jsonl', lab=True)\n",
    "data_lab.shape"
   ]
  },
  {
   "cell_type": "code",
   "execution_count": 15,
   "id": "99d5b8cb-b5e3-42ad-82bc-f9a8262c0c46",
   "metadata": {},
   "outputs": [
    {
     "data": {
      "text/plain": [
       "(110, 2)"
      ]
     },
     "execution_count": 15,
     "metadata": {},
     "output_type": "execute_result"
    }
   ],
   "source": [
    "data_nc = load_jsonl_df('dataset/train_dataset_nc.jsonl')\n",
    "data_nc.shape"
   ]
  },
  {
   "cell_type": "code",
   "execution_count": 51,
   "id": "d3f63826-e9ea-437f-97aa-a413e0cf849a",
   "metadata": {},
   "outputs": [],
   "source": [
    "dataset = data_lab.drop(\"target\", axis=1)"
   ]
  },
  {
   "cell_type": "code",
   "execution_count": 52,
   "id": "c59ddf29-1787-4aa4-82c1-563717c0341c",
   "metadata": {},
   "outputs": [
    {
     "data": {
      "text/plain": [
       "(200, 2)"
      ]
     },
     "execution_count": 52,
     "metadata": {},
     "output_type": "execute_result"
    }
   ],
   "source": [
    "dataset.shape"
   ]
  },
  {
   "cell_type": "code",
   "execution_count": 54,
   "id": "68cb310b-3e45-46cd-b51a-0d6da04a22fc",
   "metadata": {},
   "outputs": [
    {
     "data": {
      "text/plain": [
       "(310, 2)"
      ]
     },
     "execution_count": 54,
     "metadata": {},
     "output_type": "execute_result"
    }
   ],
   "source": [
    "dataset = pd.concat([dataset, data_nc])\n",
    "dataset.shape"
   ]
  },
  {
   "cell_type": "code",
   "execution_count": 55,
   "id": "1a268655-7f92-4bcf-9787-ff6a7fae3890",
   "metadata": {
    "scrolled": true
   },
   "outputs": [
    {
     "data": {
      "text/html": [
       "<div>\n",
       "<style scoped>\n",
       "    .dataframe tbody tr th:only-of-type {\n",
       "        vertical-align: middle;\n",
       "    }\n",
       "\n",
       "    .dataframe tbody tr th {\n",
       "        vertical-align: top;\n",
       "    }\n",
       "\n",
       "    .dataframe thead th {\n",
       "        text-align: right;\n",
       "    }\n",
       "</style>\n",
       "<table border=\"1\" class=\"dataframe\">\n",
       "  <thead>\n",
       "    <tr style=\"text-align: right;\">\n",
       "      <th></th>\n",
       "      <th>user_content</th>\n",
       "      <th>assistant_content</th>\n",
       "    </tr>\n",
       "  </thead>\n",
       "  <tbody>\n",
       "    <tr>\n",
       "      <th>0</th>\n",
       "      <td>List of genes : &lt;&lt;&lt; ADH1C,UGT2B15,UGT1A4,CYP2D...</td>\n",
       "      <td>The analysis of the provided gene and compound...</td>\n",
       "    </tr>\n",
       "    <tr>\n",
       "      <th>1</th>\n",
       "      <td>List of genes : &lt;&lt;&lt; ALDH3B1,GOT1,AOC3,GOT2,PAH...</td>\n",
       "      <td>The metabolic pathway identified from the prov...</td>\n",
       "    </tr>\n",
       "    <tr>\n",
       "      <th>2</th>\n",
       "      <td>List of genes : &lt;&lt;&lt; GLUL,CAT,HYI,AGXT,ACAT2,HA...</td>\n",
       "      <td>The metabolic pathway identified in the experi...</td>\n",
       "    </tr>\n",
       "    <tr>\n",
       "      <th>3</th>\n",
       "      <td>List of genes : &lt;&lt;&lt; CYP2C8,PLA2G6,PLA2G4D,PLA2...</td>\n",
       "      <td>The metabolic pathway identified in this exper...</td>\n",
       "    </tr>\n",
       "    <tr>\n",
       "      <th>4</th>\n",
       "      <td>List of genes : &lt;&lt;&lt; AK9,DGUOK,ENTPD8,NT5C3B,AD...</td>\n",
       "      <td>The metabolic pathway identified in this exper...</td>\n",
       "    </tr>\n",
       "  </tbody>\n",
       "</table>\n",
       "</div>"
      ],
      "text/plain": [
       "                                        user_content  \\\n",
       "0  List of genes : <<< ADH1C,UGT2B15,UGT1A4,CYP2D...   \n",
       "1  List of genes : <<< ALDH3B1,GOT1,AOC3,GOT2,PAH...   \n",
       "2  List of genes : <<< GLUL,CAT,HYI,AGXT,ACAT2,HA...   \n",
       "3  List of genes : <<< CYP2C8,PLA2G6,PLA2G4D,PLA2...   \n",
       "4  List of genes : <<< AK9,DGUOK,ENTPD8,NT5C3B,AD...   \n",
       "\n",
       "                                   assistant_content  \n",
       "0  The analysis of the provided gene and compound...  \n",
       "1  The metabolic pathway identified from the prov...  \n",
       "2  The metabolic pathway identified in the experi...  \n",
       "3  The metabolic pathway identified in this exper...  \n",
       "4  The metabolic pathway identified in this exper...  "
      ]
     },
     "execution_count": 55,
     "metadata": {},
     "output_type": "execute_result"
    }
   ],
   "source": [
    "dataset.head()"
   ]
  },
  {
   "cell_type": "markdown",
   "id": "b3390cc7-65b8-46c8-937c-7ff8178e82f8",
   "metadata": {},
   "source": [
    "## Pathway in assistant response is the right one"
   ]
  },
  {
   "cell_type": "code",
   "execution_count": 46,
   "id": "aef60215-0063-409a-936f-7e89c9f3f908",
   "metadata": {},
   "outputs": [],
   "source": [
    "def verify_response(row):\n",
    "    if row.iloc[2].lower() in row.iloc[1].lower():\n",
    "        return True\n",
    "    else:\n",
    "        return False"
   ]
  },
  {
   "cell_type": "code",
   "execution_count": 47,
   "id": "4c2b7d83-572f-4d0b-b46e-e4d50745502a",
   "metadata": {},
   "outputs": [],
   "source": [
    "data_lab['Correct'] = data_lab.apply(verify_response, axis=1)"
   ]
  },
  {
   "cell_type": "code",
   "execution_count": 48,
   "id": "7ce60970-21cf-45b8-8b7f-f6882f5b71c9",
   "metadata": {},
   "outputs": [
    {
     "data": {
      "text/plain": [
       "Correct\n",
       "True     179\n",
       "False     21\n",
       "Name: count, dtype: int64"
      ]
     },
     "execution_count": 48,
     "metadata": {},
     "output_type": "execute_result"
    }
   ],
   "source": [
    "data_lab[\"Correct\"].value_counts()"
   ]
  },
  {
   "cell_type": "code",
   "execution_count": 44,
   "id": "417f65d1-63d9-461a-a6bb-15005fb68d85",
   "metadata": {},
   "outputs": [],
   "source": [
    "def print_cells(row):\n",
    "    print(row.iloc[2])\n",
    "    print(row.iloc[1] + '\\n\\n')"
   ]
  },
  {
   "cell_type": "code",
   "execution_count": 45,
   "id": "f403fc96-9758-4de6-aee5-37973e661e89",
   "metadata": {
    "collapsed": true,
    "jupyter": {
     "outputs_hidden": true
    }
   },
   "outputs": [
    {
     "name": "stdout",
     "output_type": "stream",
     "text": [
      "Glycolysis / Gluconeogenesis\n",
      "The metabolic pathway identified based on the altered genes and compounds is Glycolysis/Gluconeogenesis. This conclusion is supported by the presence of multiple genes directly involved in this pathway, such as PGM1, PFKL, PGAM4, ENO2, and HK2. The compounds D-Glucose, D-Fructose 6-phosphate, beta-D-Glucose 6-phosphate, D-Glyceraldehyde 3-phosphate, 3-Phospho-D-glycerate, 2-Phospho-D-glycerate, and Phosphoenolpyruvate are key intermediates in this pathway. Additionally, the presence of Acetyl-CoA and Acetate suggests involvement of pyruvate metabolism, which is closely linked to Glycolysis/Gluconeogenesis. The altered genes DLAT, LDHAL6A, ALDH3B2, ALDH3A1, and FBP2, while not directly in the pathway, are involved in related metabolic processes, further supporting the identification of Glycolysis/Gluconeogenesis as the affected pathway.\n",
      "\n",
      "\n",
      "Neomycin, kanamycin and gentamicin biosynthesis\n",
      "The metabolic pathway identified in this experiment is the \"Neomycin, kanamycin, and gentamicin biosynthesis\" pathway. This is supported by the alterations in several genes and compounds associated with this pathway. The genes GCK, HK2, and HKDC1 are involved in glycolysis, a pathway that provides precursors for amino sugar synthesis, which is a crucial step in the biosynthesis of these antibiotics. The presence of compounds such as 2-Deoxy-scyllo-inosamine, UDP-kanosamine, and Kanamycin C further supports this, as they are intermediates or end products of this pathway. The altered compounds 2'-Deamino-2'-hydroxyneamine, Gentamicin C2b, 6''-O-Carbamoylkanamycin A, 6'-Oxokanamycin X, and Lividamine are also derivatives or precursors in this biosynthetic pathway, suggesting a disruption or alteration in this metabolic process.\n",
      "\n",
      "\n",
      "Neomycin, kanamycin and gentamicin biosynthesis\n",
      "Based on the provided list of genes and compounds, the identified metabolic pathway is the Neomycin, kanamycin, and gentamicin biosynthesis pathway. This pathway is involved in the production of aminoglycoside antibiotics, including neomycin, kanamycin, and gentamicin.\n",
      "\n",
      "The altered genes, GCK, HK3, and HKDC1, are involved in glucose metabolism and are not directly related to this pathway. However, the presence of multiple compounds involved in this pathway, such as Paromamine, Gentamicin A2, 6'-Oxokanamycin X, and 2'''-N-Acetyl-6'''-deamino-6'''-hydroxyneomycin C, suggests that this pathway is affected in the studied condition. The presence of these compounds, which are intermediates or derivatives of neomycin, kanamycin, and gentamicin, indicates that the biosynthesis of these antibiotics is altered in the condition being studied.\n",
      "\n",
      "\n",
      "Neomycin, kanamycin and gentamicin biosynthesis\n",
      "The metabolic pathway identified in this experiment is the Neomycin, Kanamycin, and Gentamicin biosynthesis pathway. This conclusion is supported by the alteration of several genes and compounds associated with this pathway. The genes HK1, HK3, and GCK are involved in the initial stages of this pathway, specifically in the production of glucose-6-phosphate, a key precursor for the biosynthesis of these antibiotics. The compounds Nebramine, Neamine, Antibiotic JI-20B, Paromomycin II, Neomycin C, and Gentamicin C2, among others, are intermediates or products of this pathway. The presence of these compounds, along with the alteration of the associated genes, strongly suggests that this pathway is indeed involved in the condition under study.\n",
      "\n",
      "\n",
      "Valine, leucine and isoleucine biosynthesis\n",
      "The metabolic pathway identified in this experiment is the Valine, Leucine, and Isoleucine Biosynthesis pathway. This conclusion is supported by the alterations in the genes SDS (Serine Dehydratase), BCAT2 (Branched-Chain Aminotransferase 2), and SDSL (Serine Dehydratase-Like). These genes play crucial roles in the biosynthesis of these branched-chain amino acids. The increased levels of L-Threonine, a precursor in this pathway, and 3-Methyl-2-oxobutanoic acid, an intermediate in this pathway, further support this identification. The alterations in these genes and compounds suggest an increased activity or dysregulation in this pathway.\n",
      "\n",
      "\n",
      "Glycosaminoglycan biosynthesis - heparan sulfate / heparin\n",
      "The metabolic pathway identified in the experiment is the Glycosaminoglycan biosynthesis - heparan sulfate/heparin pathway. This conclusion is based on the altered genes and compounds observed. The genes NDST4, EXTL1, EXT1, and B4GALT7 are all directly involved in the biosynthesis of heparan sulfate or heparin. NDST4 is a N-deacetylase/N-sulfotransferase that modifies heparan sulfate, EXTL1 and EXT1 are involved in the synthesis of heparan sulfate chains, and B4GALT7 is a galactosyltransferase that adds a galactose to the growing heparan sulfate chain. The alteration of these genes suggests a disruption in the normal function of this pathway. The identified compounds also support this conclusion. Adenosine 3',5'-bisphosphate and 3'-Phosphoadenylyl sulfate are involved in the biosynthesis of glycosaminoglycans, including heparan sulfate and heparin. [Protein]-L-serine is a precursor for the synthesis of glycosaminoglycans, and Acetate is a metabolite involved in energy production, which could impact the energy-intensive process of glycosaminoglycan biosynthesis. Therefore, the data suggest that the Glycosaminoglycan biosynthesis - heparan sulfate/heparin pathway is significantly affected in the experiment.\n",
      "\n",
      "\n",
      "Phenylalanine, tyrosine and tryptophan biosynthesis\n",
      "The metabolic pathway identified in this experiment is the Phenylalanine, Tyrosine, and Tryptophan biosynthesis pathway. This conclusion is supported by the alterations in the genes GOT1 and GOT2, both of which are involved in the conversion of aspartate to oxaloacetate, a key step in the biosynthesis of these amino acids. Furthermore, the presence of compounds such as Phenylpyruvate, L-Homophenylalanine, and Indoleglycerol phosphate, which are intermediates in this pathway, strengthens this conclusion. The other altered compounds, while not directly part of this pathway, could be byproducts or intermediates in related pathways, further indicating a disruption in amino acid metabolism.\n",
      "\n",
      "\n",
      "Neomycin, kanamycin and gentamicin biosynthesis\n",
      "The metabolic pathway identified in this experiment is the Neomycin, Kanamycin, and Gentamicin biosynthesis pathway. This is supported by the alteration of multiple genes involved in this pathway, including HK1, HK2, HKDC1, and HK3, which are known to be involved in the initial steps of hexose metabolism, a crucial part of this biosynthesis pathway. The presence of compounds such as D-Glucose 6-phosphate, a key intermediate in hexose metabolism, further supports this conclusion. Additionally, the presence of various aminoglycoside antibiotics (6'-Oxolividamine, Gentamicin C2a, 6'-Oxokanamycin X, 6'-Oxogentamicin X2, 6'-Oxo-G418, Neamine, Paromomycin II, etc.) and their intermediates (6'''-Deamino-6'''-oxoparomomycin II, 6''-O-Carbamoylkanamycin A, 4'-Oxonebramine, 6'''-Deamino-6'''-hydroxyneomycin C, etc.) directly implicates this pathway. The presence of L-Glutamate and gamma-L-Glutamyl-[acp] also supports this, as they are involved in the aminoacylation steps of this pathway.\n",
      "\n",
      "\n",
      "Valine, leucine and isoleucine biosynthesis\n",
      "The metabolic pathway identified from the provided data is the Valine, Leucine, and Isoleucine biosynthesis pathway. This conclusion is drawn from the alterations observed in the genes BCAT1, SDSL, and BCAT2, which are known to be involved in this pathway. BCAT1 and BCAT2 encode branched-chain aminotransferases, enzymes that catalyze the first step in the biosynthesis of branched-chain amino acids, including valine. SDSL, on the other hand, is involved in the synthesis of sulfur-containing amino acids, a process that is closely linked to branched-chain amino acid biosynthesis. The altered compounds, 3-Hydroxy-3-methyl-2-oxobutanoic acid and L-Valine, also support this conclusion. The former is a direct intermediate in the valine biosynthesis pathway, while L-Valine is the end product of this pathway. Therefore, the changes in these genes and compounds strongly suggest alterations in the Valine, Leucine, and Isoleucine biosynthesis pathway.\n",
      "\n",
      "\n",
      "Glycosaminoglycan biosynthesis - heparan sulfate / heparin\n",
      "The metabolic pathway identified from the experiment is Glycosaminoglycan biosynthesis - heparan sulfate/heparin. This conclusion is drawn from the observed alterations in genes and compounds directly involved in this pathway. The genes EXTL2, NDST1, HS6ST1, HS3ST2, B3GAT3, EXTL1, NDST4, and HS2ST1 are all known to play essential roles in the biosynthesis of heparan sulfate and heparin. The presence of 3'-Phosphoadenylyl sulfate, a crucial cofactor in the sulfation steps of heparan sulfate synthesis, further supports this finding. The involvement of Adenosine 3',5'-bisphosphate, a molecule important in energy transfer, suggests an energy requirement for this pathway's processes. Lastly, the altered levels of Acetate might indicate changes in the acetylation steps during heparan sulfate biosynthesis. Overall, the collective evidence points towards the Glycosaminoglycan biosynthesis - heparan sulfate/heparin pathway being significantly affected in the given conditions.\n",
      "\n",
      "\n",
      "Neomycin, kanamycin and gentamicin biosynthesis\n",
      "The metabolic pathway identified from the given data is the \"Neomycin, kanamycin, and gentamicin biosynthesis\" pathway. This pathway involves the production of aminoglycoside antibiotics, which are derived from the amino sugars glucosamine and kanosamine. The presence of genes such as HK3, HK1, and HKDC1, which are involved in hexokinase activity and glycolysis, suggests a role in providing energy for this biosynthetic process. The altered compounds, including Ribostamycin, Paromamine, L-Glutamate, and various derivatives of Neamine, Gentamicin, and Kanamycin, are direct intermediates or related compounds in this pathway. The presence of UDP-glucose, UDP-N-acetyl-alpha-D-glucosamine, and Acyl-carrier protein further support this identification, as they are essential for the biosynthesis of aminoglycosides.\n",
      "\n",
      "\n",
      "Neomycin, kanamycin and gentamicin biosynthesis\n",
      "The metabolic pathway identified from the given data is the Neomycin, kanamycin, and gentamicin biosynthesis pathway. This is primarily due to the presence of multiple genes related to hexokinase enzymes (HK3, GCK, HK2, HKDC1, HK1) and the altered compounds that are directly associated with this pathway, such as Apramycin, Kanamycin C, Gentamicin C2a, and 6'-Oxo-G418. The other compounds like UDP-3-ketoglucose, 6'-Dehydro-6'-oxoparomamine, 6'''-Deamino-6'''-oxoneomycin C, Nebramine, and Lividomycin A are also known to be involved in this pathway or have structural similarities with the known compounds in this pathway. Therefore, it is reasonable to conclude that the Neomycin, kanamycin, and gentamicin biosynthesis pathway is significantly involved in the observed condition.\n",
      "\n",
      "\n",
      "Glycolysis / Gluconeogenesis\n",
      "The metabolic pathway identified in this experiment is Glycolysis/Gluconeogenesis. This conclusion is supported by the alteration of several key genes and compounds involved in these pathways. The genes ADH7 (Alcohol Dehydrogenase 7), LDHA (Lactate Dehydrogenase A), and PDHA2 (Pyruvate Dehydrogenase E1 Subunit Alpha 2) play crucial roles in glycolysis and gluconeogenesis. ADH7 is involved in ethanol metabolism, which is a byproduct of glycolysis. LDHA converts pyruvate to lactate, a step in anaerobic glycolysis. PDHA2 is a component of the pyruvate dehydrogenase complex, which links glycolysis to the citric acid cycle. The presence of compounds such as Acetaldehyde, Ethanol, Pyruvate, and Acetyl-CoA further supports the involvement of these pathways. The alteration of these genes and compounds suggests that glycolysis and/or gluconeogenesis may be dysregulated in the specific condition being studied.\n",
      "\n",
      "\n",
      "Alanine, aspartate and glutamate metabolism\n",
      "The metabolic pathway identified in this experiment is the Alanine, Aspartate, and Glutamate metabolism. This is supported by the alteration of two key genes, ASRGL1 and GPT, both of which are involved in this pathway. ASRGL1 encodes an enzyme that plays a role in the synthesis of N-Acetylaspartylglutamate, a compound that was found to be altered in this experiment. GPT, on the other hand, encodes an enzyme that catalyzes the interconversion of alanine and pyruvate and the interconversion of aspartate and oxaloacetate, which are also among the altered compounds. Furthermore, the presence of compounds such as N-Carbamoyl-L-aspartate and beta-Citryl-L-glutamate, which are intermediates in this pathway, further supports the identification of this metabolic pathway.\n",
      "\n",
      "\n",
      "Alanine, aspartate and glutamate metabolism\n",
      "The metabolic pathway identified in this experiment is the Alanine, Aspartate, and Glutamate Metabolism pathway. This conclusion is supported by the alterations in several key genes and compounds associated with this pathway. The genes NAT8L, ASL, ADSS2, and NIT2 are all involved in this pathway. NAT8L is involved in the synthesis of N-acetylaspartylglutamate, a compound that was altered in the experiment. ASL and ADSS2 are involved in the synthesis of aspartate and N-acetylaspartate, respectively, both of which were also altered. NIT2 is involved in the conversion of nitrite to ammonia, which was also found to be altered. Furthermore, the compounds L-Alanine, D-Aspartate, L-Aspartate, L-Glutamate, L-Asparagine, and 2-Oxoglutarate, all key components of this pathway, were also found to be altered. Therefore, it is reasonable to conclude that the Alanine, Aspartate, and Glutamate Metabolism pathway is significantly affected in this experiment.\n",
      "\n",
      "\n",
      "Glycosaminoglycan degradation\n",
      "The metabolic pathway identified in this experiment is Glycosaminoglycan (GAG) degradation. This conclusion is supported by the altered genes and compounds observed. The genes HYAL1, HYAL2, HYAL3, and HYAL4 are hyaluronidases, enzymes responsible for degrading hyaluronic acid, a type of GAG. GUSB, IDS, ARSB, and HEXB are lysosomal enzymes involved in the degradation of various GAGs. GNS, SPAM1, HGSNAT, and NAGLU are involved in the synthesis and modification of GAGs, suggesting a potential feedback mechanism in response to altered GAG levels. The compounds Chondroitin 4-sulfate, Dermatan sulfate, and Hyaluronic acid are all GAGs, further supporting the identification of this pathway. The presence of DWA-2, a compound used in the study of GAG degradation, further strengthens this conclusion.\n",
      "\n",
      "\n",
      "Alanine, aspartate and glutamate metabolism\n",
      "The metabolic pathway identified in this experiment is the Alanine, Aspartate, and Glutamate Metabolism pathway. This conclusion is based on the observation of altered metabolic genes and compounds associated with this pathway. The genes ALDH5A1, GFPT1, GLUL, NAT8L, GLUD2, RIMKLB, GLS2, GFPT2, GLUD1, ADSS2, ABAT, ASS1, FOLH1, GAD1, GAD2, ASNS, CAD, AGXT, and ASRGL1 are all involved in this pathway, with roles in amino acid synthesis, transportation, and degradation.\n",
      "\n",
      "The altered compounds further support this identification. Succinate semialdehyde, L-Alanine, Fumarate, D-Glucosamine 6-phosphate, N-Acetylaspartylglutamate, N-Acetyl-L-aspartate, Succinate, L-Glutamate, 4-Aminobutanoate, N-(L-Arginino)succinate, L-Aspartate, N6-(1,2-Dicarboxyethyl)-AMP, beta-Citryl-L-glutamate, (S)-1-Pyrroline-5-carboxylate, Pyruvate, and Citrate are all intermediates or products of this pathway. Therefore, the changes in these genes and compounds suggest that the Alanine, Aspartate, and Glutamate Metabolism pathway is significantly affected in the experimental conditions.\n",
      "\n",
      "\n",
      "Phenylalanine, tyrosine and tryptophan biosynthesis\n",
      "The metabolic pathway identified in this experiment is the \"Phenylalanine, tyrosine, and tryptophan biosynthesis\" pathway, based on the alterations observed in the genes and compounds. The genes GOT1 (Glutamic-oxaloacetic transaminase 1), PAH (Phenylalanine hydroxylase), and TAT (Tyrosine aminotransferase) are directly involved in this pathway. PAH is responsible for converting phenylalanine to tyrosine, while TAT converts tyrosine to 4-hydroxyphenylpyruvate. GOT1, although not directly involved in this pathway, can indirectly influence amino acid metabolism, including phenylalanine metabolism. The altered compounds, such as N-(5-Phospho-D-ribosyl)anthranilate, Anthranilate, Chorismate, and Indoleglycerol phosphate, are intermediates in this pathway, further supporting its involvement. The presence of L-Phenylalanine and its derivatives also suggests perturbations in this pathway. Therefore, the observed changes in genes and compounds strongly indicate an alteration in the phenylalanine, tyrosine, and tryptophan biosynthesis pathway.\n",
      "\n",
      "\n",
      "Neomycin, kanamycin and gentamicin biosynthesis\n",
      "The metabolic pathway identified in this experiment is the \"Neomycin, kanamycin, and gentamicin biosynthesis\" pathway. This conclusion is supported by the alterations in the genes HK2 and HKDC1, and the compounds 6'-Oxokanamycin X, 6'''-Deamino-6'''-hydroxyparomomycin II, 6'''-Deamino-6'''-oxoneomycin C, Xylostasin, Kanamycin D, and Tobramycin. These compounds are intermediates or derivatives of the neomycin, kanamycin, and gentamicin biosynthesis pathway. The genes HK2 and HKDC1, which encode hexokinase enzymes, are involved in the initial steps of this pathway by phosphorylating the substrate glucose. Therefore, alterations in these genes could potentially affect the flux through the biosynthesis pathway.\n",
      "\n",
      "\n",
      "Phenylalanine, tyrosine and tryptophan biosynthesis\n",
      "The metabolic pathway identified in this experiment is the Phenylalanine, tyrosine, and tryptophan biosynthesis pathway. This conclusion is based on the alteration of several key genes involved in this pathway, including TAT, GOT2, GOT1, and PAH. TAT encodes a transaminase involved in the conversion of tyrosine to p-hydroxyphenylpyruvate, while GOT1 and GOT2 encode enzymes that convert aspartate to oxaloacetate, which is a precursor for phenylalanine and tyrosine biosynthesis. The alteration of PAH, which encodes phenylalanine hydroxylase, is also indicative of changes in this pathway. The presence of L-Arogenate and indoleglycerol phosphate, compounds involved in the biosynthesis of phenylalanine, tyrosine, and tryptophan, further supports the identification of this pathway as being affected by the experimental conditions.\n",
      "\n",
      "\n",
      "Alanine, aspartate and glutamate metabolism\n",
      "The metabolic pathway identified in this experiment is the Alanine, Aspartate, and Glutamate Metabolism pathway. This conclusion is supported by the alterations in several genes and compounds associated with this pathway. Genes such as GPT2, GOT2, GLS, GPT, and GFPT1 are directly involved in this pathway, regulating the conversion of amino acids like L-Alanine, L-Aspartate, and L-Glutamine. The presence of compounds like L-Alanine, L-Aspartate, L-Glutamine, Ammonia, Pyruvate, and 2-Oxoglutarate further strengthens this identification. Additionally, other genes like IL4I1, NAT8L, ADSS2, FOLH1, and ALDH5A1, along with compounds like N-Acetylaspartylglutamate, 2-Oxosuccinamate, and 2-Oxoglutaramate, are indirectly related to this pathway, supporting its involvement in the observed condition.\n",
      "\n",
      "\n"
     ]
    },
    {
     "data": {
      "text/plain": [
       "10     None\n",
       "13     None\n",
       "21     None\n",
       "28     None\n",
       "41     None\n",
       "42     None\n",
       "46     None\n",
       "50     None\n",
       "76     None\n",
       "82     None\n",
       "88     None\n",
       "105    None\n",
       "120    None\n",
       "133    None\n",
       "143    None\n",
       "145    None\n",
       "150    None\n",
       "153    None\n",
       "154    None\n",
       "166    None\n",
       "198    None\n",
       "dtype: object"
      ]
     },
     "execution_count": 45,
     "metadata": {},
     "output_type": "execute_result"
    }
   ],
   "source": [
    "data_lab.loc[data_lab[\"Correct\"] == False].apply(print_cells, axis=1)"
   ]
  },
  {
   "cell_type": "markdown",
   "id": "a0cb6446-18d8-482d-a617-79cc5b2d05ac",
   "metadata": {},
   "source": [
    "After checking the 21 incorrect lines, it seems that differences occured because of addition/suppression of special characters in pathway names.\n",
    "Besides this, all assistant responses were correct."
   ]
  },
  {
   "cell_type": "code",
   "execution_count": 50,
   "id": "cc60f40e-4164-4ac2-bf84-1269cf27c475",
   "metadata": {},
   "outputs": [
    {
     "data": {
      "text/plain": [
       "(200, 3)"
      ]
     },
     "execution_count": 50,
     "metadata": {},
     "output_type": "execute_result"
    }
   ],
   "source": [
    "data_lab = data_lab.drop(\"Correct\", axis=1)\n",
    "data_lab.shape"
   ]
  },
  {
   "cell_type": "markdown",
   "id": "bf074b83-e648-44d0-abcc-25a0bc500a65",
   "metadata": {},
   "source": [
    "## Representation of each pathway\n",
    "\n",
    "Iter1 : The representation of some pathways seems a little imbalanced, especially for pathway that are quite specific (Neomycin, kanamycin and gentamicin biosynthesis, Caffeine metabolism). Some pathways still have only one representation, highlighting the need for further generation. New generation was performed excluding these 2 pathways\n",
    "\n",
    "Iter2 : The representation is still quite imbalanced. Running new generation with only the pathways with less than 4 examples. Excluding pathway which to my knowledge are not very specific or quite rare. Resulting (keeper) list :"
   ]
  },
  {
   "cell_type": "code",
   "execution_count": null,
   "id": "9222fefa-8087-4bde-94a9-e4caed945db2",
   "metadata": {},
   "outputs": [],
   "source": [
    "iter3gen = ['Phenylalanine metabolism', 'Sulfur metabolism',\n",
    "       'Nicotinate and nicotinamide metabolism', 'Linoleic acid metabolism',\n",
    "       'Purine metabolism', 'Glycerophospholipid metabolism',\n",
    "       'Propanoate metabolism',\n",
    "       'Ether lipid metabolism', 'Steroid biosynthesis',\n",
    "       'Pentose and glucuronate interconversions', 'Fatty acid elongation',\n",
    "       'Pantothenate and CoA biosynthesis', 'Fatty acid metabolism',\n",
    "       'D-Amino acid metabolism', 'Folate biosynthesis',\n",
    "       'Terpenoid backbone biosynthesis',\n",
    "       'Amino sugar and nucleotide sugar metabolism',\n",
    "       'Mucin type O-glycan biosynthesis', 'Sphingolipid metabolism',\n",
    "       'Lipoic acid metabolism', 'Pyrimidine metabolism',\n",
    "       'alpha-Linolenic acid metabolism', 'Nitrogen metabolism',\n",
    "       'One carbon pool by folate',\n",
    "       'Valine, leucine and isoleucine degradation']"
   ]
  },
  {
   "cell_type": "code",
   "execution_count": 75,
   "id": "3d0761d2-7dc7-45c7-8be9-f51ff6bb3dc7",
   "metadata": {},
   "outputs": [
    {
     "data": {
      "text/plain": [
       "target\n",
       "Fatty acid metabolism                                                      13\n",
       "Arachidonic acid metabolism                                                11\n",
       "Ether lipid metabolism                                                      9\n",
       "Biosynthesis of unsaturated fatty acids                                     9\n",
       "Purine metabolism                                                           9\n",
       "Alanine, aspartate and glutamate metabolism                                 8\n",
       "Vitamin B6 metabolism                                                       8\n",
       "Starch and sucrose metabolism                                               8\n",
       "Fructose and mannose metabolism                                             8\n",
       "Drug metabolism - cytochrome P450                                           8\n",
       "Sulfur metabolism                                                           8\n",
       "Nicotinate and nicotinamide metabolism                                      8\n",
       "Phosphonate and phosphinate metabolism                                      7\n",
       "Ascorbate and aldarate metabolism                                           7\n",
       "Valine, leucine and isoleucine degradation                                  7\n",
       "Linoleic acid metabolism                                                    7\n",
       "Citrate cycle (TCA cycle)                                                   7\n",
       "Glycosphingolipid biosynthesis - globo and isoglobo series                  7\n",
       "Lipoic acid metabolism                                                      7\n",
       "Steroid hormone biosynthesis                                                7\n",
       "D-Amino acid metabolism                                                     7\n",
       "Pentose and glucuronate interconversions                                    7\n",
       "Pyruvate metabolism                                                         7\n",
       "Neomycin, kanamycin and gentamicin biosynthesis                             7\n",
       "Phenylalanine metabolism                                                    6\n",
       "Carbon metabolism                                                           6\n",
       "Fatty acid biosynthesis                                                     6\n",
       "2-Oxocarboxylic acid metabolism                                             6\n",
       "Caffeine metabolism                                                         6\n",
       "Cysteine and methionine metabolism                                          6\n",
       "Porphyrin metabolism                                                        6\n",
       "Glycerolipid metabolism                                                     6\n",
       "alpha-Linolenic acid metabolism                                             6\n",
       "Oxidative phosphorylation                                                   6\n",
       "Glycosylphosphatidylinositol (GPI)-anchor biosynthesis                      6\n",
       "Inositol phosphate metabolism                                               6\n",
       "Ubiquinone and other terpenoid-quinone biosynthesis                         6\n",
       "Glycosphingolipid biosynthesis - ganglio series                             6\n",
       "Arginine and proline metabolism                                             6\n",
       "beta-Alanine metabolism                                                     6\n",
       "Phenylalanine, tyrosine and tryptophan biosynthesis                         6\n",
       "Biosynthesis of amino acids                                                 6\n",
       "Biosynthesis of nucleotide sugars                                           6\n",
       "One carbon pool by folate                                                   6\n",
       "Glutathione metabolism                                                      6\n",
       "Biotin metabolism                                                           6\n",
       "Propanoate metabolism                                                       6\n",
       "Arginine biosynthesis                                                       6\n",
       "Amino sugar and nucleotide sugar metabolism                                 5\n",
       "Terpenoid backbone biosynthesis                                             5\n",
       "Pentose phosphate pathway                                                   5\n",
       "Primary bile acid biosynthesis                                              5\n",
       "Steroid biosynthesis                                                        5\n",
       "Fatty acid elongation                                                       5\n",
       "Glycine, serine and threonine metabolism                                    5\n",
       "Metabolism of xenobiotics by cytochrome P450                                5\n",
       "Tyrosine metabolism                                                         5\n",
       "Glyoxylate and dicarboxylate metabolism                                     5\n",
       "Taurine and hypotaurine metabolism                                          5\n",
       "Sphingolipid metabolism                                                     5\n",
       "Nucleotide metabolism                                                       5\n",
       "Biosynthesis of cofactors                                                   5\n",
       "N-Glycan biosynthesis                                                       5\n",
       "Lysine degradation                                                          5\n",
       "Fatty acid degradation                                                      5\n",
       "Histidine metabolism                                                        4\n",
       "Glycosaminoglycan biosynthesis - heparan sulfate / heparin                  4\n",
       "Glycolysis / Gluconeogenesis                                                4\n",
       "Mucin type O-glycan biosynthesis                                            4\n",
       "Glycosaminoglycan biosynthesis - chondroitin sulfate / dermatan sulfate     4\n",
       "Tryptophan metabolism                                                       4\n",
       "Galactose metabolism                                                        4\n",
       "Valine, leucine and isoleucine biosynthesis                                 4\n",
       "Glycosaminoglycan degradation                                               4\n",
       "Selenocompound metabolism                                                   4\n",
       "Pantothenate and CoA biosynthesis                                           4\n",
       "Thiamine metabolism                                                         4\n",
       "Retinol metabolism                                                          4\n",
       "Glycerophospholipid metabolism                                              4\n",
       "Pyrimidine metabolism                                                       4\n",
       "Mannose type O-glycan biosynthesis                                          4\n",
       "Riboflavin metabolism                                                       4\n",
       "Nitrogen metabolism                                                         3\n",
       "Drug metabolism - other enzymes                                             3\n",
       "Glycosphingolipid biosynthesis - lacto and neolacto series                  3\n",
       "Folate biosynthesis                                                         2\n",
       "Butanoate metabolism                                                        1\n",
       "Name: count, dtype: int64"
      ]
     },
     "execution_count": 75,
     "metadata": {},
     "output_type": "execute_result"
    }
   ],
   "source": [
    "pd.set_option('display.max_rows', 99)\n",
    "data_lab['target'].value_counts()"
   ]
  },
  {
   "cell_type": "code",
   "execution_count": 73,
   "id": "76922c21-0c52-4bd6-a2c4-0403534f4179",
   "metadata": {},
   "outputs": [
    {
     "data": {
      "text/plain": [
       "Index(['Nitrogen metabolism', 'Drug metabolism - other enzymes',\n",
       "       'Glycosphingolipid biosynthesis - lacto and neolacto series',\n",
       "       'Folate biosynthesis', 'Butanoate metabolism'],\n",
       "      dtype='object', name='target')"
      ]
     },
     "execution_count": 73,
     "metadata": {},
     "output_type": "execute_result"
    }
   ],
   "source": [
    "vc[vc < 4].index"
   ]
  }
 ],
 "metadata": {
  "kernelspec": {
   "display_name": "venv",
   "language": "python",
   "name": "venv"
  },
  "language_info": {
   "codemirror_mode": {
    "name": "ipython",
    "version": 3
   },
   "file_extension": ".py",
   "mimetype": "text/x-python",
   "name": "python",
   "nbconvert_exporter": "python",
   "pygments_lexer": "ipython3",
   "version": "3.12.3"
  }
 },
 "nbformat": 4,
 "nbformat_minor": 5
}
