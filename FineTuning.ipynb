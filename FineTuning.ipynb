{
 "cells": [
  {
   "cell_type": "markdown",
   "id": "83636d7b-f0ef-44dc-b6eb-bf77834ecc80",
   "metadata": {},
   "source": [
    "# Fine tuning of mistral model using metabolic pathway information"
   ]
  },
  {
   "cell_type": "code",
   "execution_count": 1,
   "id": "277faff6-fc42-42c7-84a9-24f5003eb371",
   "metadata": {},
   "outputs": [],
   "source": [
    "import os\n",
    "import json\n",
    "import random\n",
    "from dotenv import load_dotenv, dotenv_values \n",
    "from mistralai.client import MistralClient\n",
    "from mistralai.models.jobs import WandbIntegrationIn, TrainingParameters"
   ]
  },
  {
   "cell_type": "code",
   "execution_count": 2,
   "id": "cdf6ab61-9a1c-4b97-bf31-f5accd97c79d",
   "metadata": {},
   "outputs": [],
   "source": [
    "load_dotenv()\n",
    "api_key = os.getenv(\"MISTRAL_API_KEY\")\n",
    "wandb_api_key = os.getenv(\"WANDB_API_KEY\")"
   ]
  },
  {
   "cell_type": "markdown",
   "id": "915702a8-3776-486a-83f9-722eec5cb25d",
   "metadata": {},
   "source": [
    "## Data preparation\n",
    "\n",
    "We have to split the dataset in train (95%) and val (5%).\n",
    "If the data still have the 'target' entry (used for dataset verification), we need to remove it."
   ]
  },
  {
   "cell_type": "code",
   "execution_count": 16,
   "id": "7b542acc-0ff7-4944-b4d5-ba0351e86398",
   "metadata": {},
   "outputs": [],
   "source": [
    "def process_split_jsonl(datafile, outf_train, outf_val):\n",
    "\n",
    "    entries = []\n",
    "    with open(datafile, 'r') as infile:\n",
    "        for line in infile:\n",
    "            try:\n",
    "                entry = json.loads(line)\n",
    "                processed_entry = {'messages': entry['messages']}\n",
    "                entries.append(processed_entry)\n",
    "            except json.JSONDecodeError:\n",
    "                print(f\"Ignoring invalid JSON: {line}\")\n",
    "                \n",
    "    random.shuffle(entries)\n",
    "    t_size = int(0.95*len(entries))\n",
    "    \n",
    "    with open(outf_train, 'w') as outfile:\n",
    "        for entry in entries[:t_size]:\n",
    "            json.dump(entry, outfile)\n",
    "            outfile.write('\\n')\n",
    "    with open(outf_val, 'w') as outfile:\n",
    "        for entry in entries[t_size:]:\n",
    "            json.dump(entry, outfile)\n",
    "            outfile.write('\\n')"
   ]
  },
  {
   "cell_type": "code",
   "execution_count": 17,
   "id": "70d58fa8-6a37-49ab-af3b-881d319e7b7b",
   "metadata": {},
   "outputs": [],
   "source": [
    "process_split_jsonl(\"dataset/train_dataset_lab.jsonl\", \"train/train.jsonl\", \"train/val.jsonl\" )"
   ]
  },
  {
   "cell_type": "markdown",
   "id": "e0f4da8b-e5c2-410d-b715-301ce5515d69",
   "metadata": {},
   "source": [
    "## Training\n",
    "\n",
    "First, dataset for train and validation are saved on the client.\n",
    "Then, a job is created to fine-tune model open-mistral-7b with the metabolic pathway dataset.\n",
    "Weight and biases (wandb) integration is added to record metrics from the training. This is done via Weight and biases website registration, to obtain an API key.\n",
    "\n",
    "After a few minutes, we can check the job state to see if it is finished (SUCCESS). If so, the fine-tuned model can then be used for [evaluation](Evaluation.ipynb)."
   ]
  },
  {
   "cell_type": "code",
   "execution_count": 18,
   "id": "7f750ff2-695a-43b2-b0c7-11b1893fb826",
   "metadata": {},
   "outputs": [],
   "source": [
    "client = MistralClient(api_key=api_key)"
   ]
  },
  {
   "cell_type": "code",
   "execution_count": 19,
   "id": "785b90ff-779a-4668-8e07-59fc4e448878",
   "metadata": {},
   "outputs": [
    {
     "name": "stdout",
     "output_type": "stream",
     "text": [
      "id='2ac15edd-3e5f-428f-a9b6-6f82ca081d1f' object='file' bytes=1282888 created_at=1719571742 filename='dbex1000_train.jsonl' purpose='fine-tune'\n",
      "id='94855080-ca1b-4161-82de-7cd00c1a842f' object='file' bytes=68452 created_at=1719571742 filename='dbex1000_eval.jsonl' purpose='fine-tune'\n"
     ]
    }
   ],
   "source": [
    "with open(\"train/train.jsonl\", \"rb\") as f:\n",
    "    dbexamples_train = client.files.create(file=(\"dbex1000_train.jsonl\", f))\n",
    "with open(\"train/val.jsonl\", \"rb\") as f:\n",
    "    dbexamples_eval = client.files.create(file=(\"dbex1000_eval.jsonl\", f))"
   ]
  },
  {
   "cell_type": "code",
   "execution_count": 20,
   "id": "dbed52d1-0459-462b-9acf-78b271a18cd5",
   "metadata": {},
   "outputs": [
    {
     "name": "stdout",
     "output_type": "stream",
     "text": [
      "id='2ac15edd-3e5f-428f-a9b6-6f82ca081d1f' object='file' bytes=1282888 created_at=1719571742 filename='dbex1000_train.jsonl' purpose='fine-tune'\n",
      "id='94855080-ca1b-4161-82de-7cd00c1a842f' object='file' bytes=68452 created_at=1719571742 filename='dbex1000_eval.jsonl' purpose='fine-tune'\n"
     ]
    }
   ],
   "source": [
    "print(dbexamples_train)\n",
    "print(dbexamples_eval)"
   ]
  },
  {
   "cell_type": "code",
   "execution_count": 26,
   "id": "2d78d83a-d730-41fa-a7ee-19351805bb90",
   "metadata": {},
   "outputs": [
    {
     "data": {
      "text/plain": [
       "Job(id='de14ae4a-beae-40ce-a6ca-ab97c9a65f06', hyperparameters=TrainingParameters(training_steps=11, learning_rate=0.0001), fine_tuned_model=None, model='open-mistral-7b', status='QUEUED', job_type='FT', created_at=1719573071, modified_at=1719573071, training_files=['2ac15edd-3e5f-428f-a9b6-6f82ca081d1f'], validation_files=['94855080-ca1b-4161-82de-7cd00c1a842f'], object='job', integrations=[WandbIntegration(type='wandb', project='metabo_7B', name=None, run_name='dbex1000_20240628')])"
      ]
     },
     "execution_count": 26,
     "metadata": {},
     "output_type": "execute_result"
    }
   ],
   "source": [
    "created_jobs = client.jobs.create(\n",
    "    model=\"open-mistral-7b\",\n",
    "    training_files=[dbexamples_train.id],\n",
    "    validation_files=[dbexamples_eval.id],\n",
    "    hyperparameters=TrainingParameters(\n",
    "        training_steps=11,\n",
    "        learning_rate=0.0001,\n",
    "    ),\n",
    "    integrations=[\n",
    "        WandbIntegrationIn(\n",
    "            project=\"metabo_7B\",\n",
    "            run_name=\"dbex1000_20240628\",\n",
    "            api_key=wandb_api_key,\n",
    "        ).dict()\n",
    "    ]\n",
    ")\n",
    "created_jobs"
   ]
  },
  {
   "cell_type": "code",
   "execution_count": 28,
   "id": "cbfc17fa-5649-4af4-91d6-d255077d8f34",
   "metadata": {},
   "outputs": [
    {
     "name": "stdout",
     "output_type": "stream",
     "text": [
      "[Checkpoint(metrics=Metric(train_loss=0.41102, valid_loss=0.439575, valid_mean_token_accuracy=1.356204), step_number=10, created_at=1719527313)]\n"
     ]
    }
   ],
   "source": [
    "retrieved_jobs = client.jobs.retrieve('e63dc09f-04a9-4678-acb7-b3b38bf8e7d2')\n",
    "\n",
    "print(retrieved_jobs.checkpoints)"
   ]
  }
 ],
 "metadata": {
  "kernelspec": {
   "display_name": "Metabo venv",
   "language": "python",
   "name": "venv"
  },
  "language_info": {
   "codemirror_mode": {
    "name": "ipython",
    "version": 3
   },
   "file_extension": ".py",
   "mimetype": "text/x-python",
   "name": "python",
   "nbconvert_exporter": "python",
   "pygments_lexer": "ipython3",
   "version": "3.12.3"
  }
 },
 "nbformat": 4,
 "nbformat_minor": 5
}
